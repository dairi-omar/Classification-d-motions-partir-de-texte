{
 "cells": [
  {
   "cell_type": "markdown",
   "id": "3105dac5-78a7-4703-9e0d-da0fd0cc396f",
   "metadata": {},
   "source": [
    "<h1 style=\"color: red;  text-align: center;\">Classification d’émotions à partir de texte</h1>\n",
    "\n",
    "\n",
    "*****************"
   ]
  },
  {
   "cell_type": "markdown",
   "id": "e1d52daa-e3c0-4926-b3f0-0eaab06f4667",
   "metadata": {},
   "source": [
    "**Objectif:**\n",
    "\n",
    "Construire un modèle deep learning pour la reconnaissance et la classification des émotions à partir des Tweets et posts sur les réseaux sociaux.\n",
    "\n",
    "**Dataset:** Nous allons utiliser un dataset disponible sur Kaggle, intitulé Emotions Dataset for NLP. Le dataset contient des phrases courtes et chaque phrase est annotée par une des six émotions principales : joie, tristesse, colère, peur, amour ou surprise.\n",
    "\n",
    "Le dataset est composé de 16 000 exemples pour l'entraînement et 2 000 pour le test et aussi 2000 pour la validation."
   ]
  },
  {
   "cell_type": "markdown",
   "id": "4f15e48d-d3bf-4dfe-bd13-b0326b10cfb5",
   "metadata": {},
   "source": [
    "### Chargement et préparation du dataset"
   ]
  },
  {
   "cell_type": "code",
   "execution_count": 1,
   "id": "ff894587-9939-48fe-9205-baeacca11a61",
   "metadata": {},
   "outputs": [],
   "source": [
    "import warnings\n",
    "warnings.filterwarnings(\"ignore\")"
   ]
  },
  {
   "cell_type": "code",
   "execution_count": 2,
   "id": "6bfd2e41-9e3b-4b93-86e6-ad91c85d0166",
   "metadata": {},
   "outputs": [],
   "source": [
    "import pandas as pd\n",
    "\n",
    "# --- 1. Charger les fichiers .txt ---\n",
    "datasetPath = r\"D:\\Projects\\EmotionsFromText\\DataSet\"\n",
    "train_df = pd.read_csv(datasetPath + \"/train.txt\", sep = \";\", names = [\"text\",\"label\"])\n",
    "test_df = pd.read_csv(datasetPath + \"/test.txt\", sep = \";\", names = [\"text\",\"label\"])"
   ]
  },
  {
   "cell_type": "code",
   "execution_count": 3,
   "id": "7987d923-0312-4ffd-b599-07d30ad16b51",
   "metadata": {},
   "outputs": [
    {
     "name": "stdout",
     "output_type": "stream",
     "text": [
      "train size =  32000\n",
      "test size =  4000\n"
     ]
    }
   ],
   "source": [
    "print(\"train size = \", train_df.size)\n",
    "print(\"test size = \", test_df.size)"
   ]
  },
  {
   "cell_type": "code",
   "execution_count": 4,
   "id": "788e5399-9708-40ea-bea1-545cb7d7ce26",
   "metadata": {},
   "outputs": [
    {
     "data": {
      "text/html": [
       "<div>\n",
       "<style scoped>\n",
       "    .dataframe tbody tr th:only-of-type {\n",
       "        vertical-align: middle;\n",
       "    }\n",
       "\n",
       "    .dataframe tbody tr th {\n",
       "        vertical-align: top;\n",
       "    }\n",
       "\n",
       "    .dataframe thead th {\n",
       "        text-align: right;\n",
       "    }\n",
       "</style>\n",
       "<table border=\"1\" class=\"dataframe\">\n",
       "  <thead>\n",
       "    <tr style=\"text-align: right;\">\n",
       "      <th></th>\n",
       "      <th>text</th>\n",
       "      <th>label</th>\n",
       "    </tr>\n",
       "  </thead>\n",
       "  <tbody>\n",
       "    <tr>\n",
       "      <th>0</th>\n",
       "      <td>i didnt feel humiliated</td>\n",
       "      <td>sadness</td>\n",
       "    </tr>\n",
       "    <tr>\n",
       "      <th>1</th>\n",
       "      <td>i can go from feeling so hopeless to so damned...</td>\n",
       "      <td>sadness</td>\n",
       "    </tr>\n",
       "    <tr>\n",
       "      <th>2</th>\n",
       "      <td>im grabbing a minute to post i feel greedy wrong</td>\n",
       "      <td>anger</td>\n",
       "    </tr>\n",
       "    <tr>\n",
       "      <th>3</th>\n",
       "      <td>i am ever feeling nostalgic about the fireplac...</td>\n",
       "      <td>love</td>\n",
       "    </tr>\n",
       "    <tr>\n",
       "      <th>4</th>\n",
       "      <td>i am feeling grouchy</td>\n",
       "      <td>anger</td>\n",
       "    </tr>\n",
       "    <tr>\n",
       "      <th>...</th>\n",
       "      <td>...</td>\n",
       "      <td>...</td>\n",
       "    </tr>\n",
       "    <tr>\n",
       "      <th>15995</th>\n",
       "      <td>i just had a very brief time in the beanbag an...</td>\n",
       "      <td>sadness</td>\n",
       "    </tr>\n",
       "    <tr>\n",
       "      <th>15996</th>\n",
       "      <td>i am now turning and i feel pathetic that i am...</td>\n",
       "      <td>sadness</td>\n",
       "    </tr>\n",
       "    <tr>\n",
       "      <th>15997</th>\n",
       "      <td>i feel strong and good overall</td>\n",
       "      <td>joy</td>\n",
       "    </tr>\n",
       "    <tr>\n",
       "      <th>15998</th>\n",
       "      <td>i feel like this was such a rude comment and i...</td>\n",
       "      <td>anger</td>\n",
       "    </tr>\n",
       "    <tr>\n",
       "      <th>15999</th>\n",
       "      <td>i know a lot but i feel so stupid because i ca...</td>\n",
       "      <td>sadness</td>\n",
       "    </tr>\n",
       "  </tbody>\n",
       "</table>\n",
       "<p>16000 rows × 2 columns</p>\n",
       "</div>"
      ],
      "text/plain": [
       "                                                    text    label\n",
       "0                                i didnt feel humiliated  sadness\n",
       "1      i can go from feeling so hopeless to so damned...  sadness\n",
       "2       im grabbing a minute to post i feel greedy wrong    anger\n",
       "3      i am ever feeling nostalgic about the fireplac...     love\n",
       "4                                   i am feeling grouchy    anger\n",
       "...                                                  ...      ...\n",
       "15995  i just had a very brief time in the beanbag an...  sadness\n",
       "15996  i am now turning and i feel pathetic that i am...  sadness\n",
       "15997                     i feel strong and good overall      joy\n",
       "15998  i feel like this was such a rude comment and i...    anger\n",
       "15999  i know a lot but i feel so stupid because i ca...  sadness\n",
       "\n",
       "[16000 rows x 2 columns]"
      ]
     },
     "execution_count": 4,
     "metadata": {},
     "output_type": "execute_result"
    }
   ],
   "source": [
    "train_df"
   ]
  },
  {
   "cell_type": "code",
   "execution_count": 5,
   "id": "c223565b-afad-4d1e-8e23-3847cc3b343d",
   "metadata": {},
   "outputs": [
    {
     "name": "stdout",
     "output_type": "stream",
     "text": [
      "<class 'pandas.core.frame.DataFrame'>\n",
      "RangeIndex: 16000 entries, 0 to 15999\n",
      "Data columns (total 2 columns):\n",
      " #   Column  Non-Null Count  Dtype \n",
      "---  ------  --------------  ----- \n",
      " 0   text    16000 non-null  object\n",
      " 1   label   16000 non-null  object\n",
      "dtypes: object(2)\n",
      "memory usage: 250.1+ KB\n"
     ]
    }
   ],
   "source": [
    "train_df.info()"
   ]
  },
  {
   "cell_type": "code",
   "execution_count": 6,
   "id": "6265eeb0-e74a-43db-87aa-190b0e0d2488",
   "metadata": {},
   "outputs": [
    {
     "data": {
      "text/plain": [
       "label\n",
       "joy         5362\n",
       "sadness     4666\n",
       "anger       2159\n",
       "fear        1937\n",
       "love        1304\n",
       "surprise     572\n",
       "Name: count, dtype: int64"
      ]
     },
     "execution_count": 6,
     "metadata": {},
     "output_type": "execute_result"
    }
   ],
   "source": [
    "train_df[\"label\"].value_counts()"
   ]
  },
  {
   "cell_type": "code",
   "execution_count": 7,
   "id": "812464b5-d46a-49c8-b2b2-d2ee86c1f5e1",
   "metadata": {},
   "outputs": [
    {
     "data": {
      "image/png": "[encoded data removed]",
      "text/plain": [
       "<Figure size 640x480 with 1 Axes>"
      ]
     },
     "metadata": {},
     "output_type": "display_data"
    }
   ],
   "source": [
    "import seaborn as sb\n",
    "s = sb.countplot(x = 'label',data = train_df,palette='husl')\n",
    "for p in s.patches:\n",
    "    height = p.get_height()\n",
    "    s.text(p.get_x()+p.get_width()/2.,height+3,\"{:1.2f}%\".format(height/len(train_df)*100),ha=\"center\",fontsize=14)"
   ]
  },
  {
   "cell_type": "code",
   "execution_count": 8,
   "id": "096982cd-e4a2-494c-8dc2-fb6b6c809531",
   "metadata": {},
   "outputs": [],
   "source": [
    "import re\n",
    "#----- 3️- Nettoyage du texte -------\n",
    "\n",
    "def clean_text(text):\n",
    "    text = text.lower()\n",
    "    text = re.sub(r'[^a-z\\s]', '', text)\n",
    "    text = re.sub(r'\\s+', ' ', text).strip()\n",
    "    return text\n",
    "    \n",
    "train_df['text'] = train_df['text'].apply(clean_text)\n",
    "test_df['text'] = test_df['text'].apply(clean_text)"
   ]
  },
  {
   "cell_type": "code",
   "execution_count": 9,
   "id": "ed7cff68-8058-4d6d-9ecd-db0bd11ec901",
   "metadata": {},
   "outputs": [],
   "source": [
    "from sklearn.preprocessing import LabelEncoder\n",
    "from tensorflow.keras.utils import to_categorical\n",
    "\n",
    "# --- 2. Encodage des étiquettes ---\n",
    "le = LabelEncoder()\n",
    "# Etiquettes du dataset d'entrainement\n",
    "y_train = to_categorical(le.fit_transform(train_df['label']))\n",
    "\n",
    "# Etiquettes du dataset de test\n",
    "y_test = to_categorical(le.transform(test_df['label']))"
   ]
  },
  {
   "cell_type": "code",
   "execution_count": 10,
   "id": "d8d70d58-94d0-4ea6-8bed-eafd5030c658",
   "metadata": {},
   "outputs": [
    {
     "data": {
      "text/plain": [
       "array([[0., 0., 0., 0., 1., 0.],\n",
       "       [0., 0., 0., 0., 1., 0.],\n",
       "       [1., 0., 0., 0., 0., 0.],\n",
       "       ...,\n",
       "       [0., 0., 1., 0., 0., 0.],\n",
       "       [1., 0., 0., 0., 0., 0.],\n",
       "       [0., 0., 0., 0., 1., 0.]], shape=(16000, 6))"
      ]
     },
     "execution_count": 10,
     "metadata": {},
     "output_type": "execute_result"
    }
   ],
   "source": [
    "y_train"
   ]
  },
  {
   "cell_type": "code",
   "execution_count": 11,
   "id": "48f067bb-5da4-44ca-871e-0255b0dbdde5",
   "metadata": {},
   "outputs": [],
   "source": [
    "from tensorflow.keras.preprocessing.text import Tokenizer\n",
    "\n",
    "# --- 3. Tokenisation\n",
    "tokenizer = Tokenizer(num_words=10000, oov_token='<OOV>')\n",
    "\n",
    "tokenizer.fit_on_texts(train_df['text'])\n",
    "\n",
    "X_train = tokenizer.texts_to_sequences(train_df['text'])\n",
    "\n",
    "X_test = tokenizer.texts_to_sequences(test_df['text'])"
   ]
  },
  {
   "cell_type": "code",
   "execution_count": 12,
   "id": "0246f9ee-98d3-497e-a6f0-e5ba9eadefc0",
   "metadata": {},
   "outputs": [
    {
     "name": "stdout",
     "output_type": "stream",
     "text": [
      "Texte brut:  i need to feel the dough to make sure its just perfect\n",
      "\n",
      "\n",
      "Texte aprés Tokenization:  [2, 105, 5, 3, 6, 7419, 5, 80, 158, 79, 32, 356]\n"
     ]
    }
   ],
   "source": [
    "print (\"Texte brut: \", train_df['text'][50])\n",
    "print(\"\\n\")\n",
    "print(\"Texte aprés Tokenization: \", X_train[50])"
   ]
  },
  {
   "cell_type": "code",
   "execution_count": 13,
   "id": "897a771f-3f77-4f9e-8b31-f49b7f44181d",
   "metadata": {},
   "outputs": [],
   "source": [
    "from tensorflow.keras.preprocessing.sequence import pad_sequences\n",
    "\n",
    "#  --- Padding ---\n",
    "X_train = pad_sequences(X_train, maxlen=50)\n",
    "X_test = pad_sequences(X_test, maxlen=50)"
   ]
  },
  {
   "cell_type": "code",
   "execution_count": 14,
   "id": "c211db39-0422-4077-a65b-710a40d71a84",
   "metadata": {},
   "outputs": [
    {
     "name": "stdout",
     "output_type": "stream",
     "text": [
      "[   0    0    0    0    0    0    0    0    0    0    0    0    0    0\n",
      "    0    0    0    0    0    0    0    0    0    0    0    0    0    0\n",
      "    0    0    0    0    0    0    0    0    0    0    2  105    5    3\n",
      "    6 7419    5   80  158   79   32  356]\n"
     ]
    }
   ],
   "source": [
    "print(X_train[50])"
   ]
  },
  {
   "cell_type": "markdown",
   "id": "74bbf9a5-994a-48de-bdaf-951dd498e930",
   "metadata": {},
   "source": [
    "### Conception du modéle de classification\n",
    "\n",
    "*****"
   ]
  },
  {
   "cell_type": "markdown",
   "id": "ab0330d2-0b19-4974-a41c-4df70018c3ae",
   "metadata": {},
   "source": [
    "#### 1- LSTM Model"
   ]
  },
  {
   "cell_type": "code",
   "execution_count": 15,
   "id": "cc48a25d-6edd-4232-a6d3-d7337533027e",
   "metadata": {},
   "outputs": [],
   "source": [
    "from tensorflow.keras.models import Sequential\n",
    "from tensorflow.keras.layers import Embedding, LSTM, Dense, Dropout, Bidirectional\n",
    "\n",
    "model_lstm = Sequential()\n",
    "model_lstm.add(Embedding(input_dim=10000, output_dim=128, input_length=50))\n",
    "model_lstm.add(LSTM(128, return_sequences=True, dropout=0.3, recurrent_dropout=0.3))\n",
    "model_lstm.add(LSTM(64, dropout=0.3))\n",
    "model_lstm.add(Dense(64, activation='relu'))\n",
    "model_lstm.add(Dropout(0.5))\n",
    "model_lstm.add(Dense(y_train.shape[1], activation='softmax'))"
   ]
  },
  {
   "cell_type": "code",
   "execution_count": 16,
   "id": "70edfaed-4e39-4d21-8321-ba3eeaff60d0",
   "metadata": {},
   "outputs": [
    {
     "name": "stdout",
     "output_type": "stream",
     "text": [
      "Epoch 1/10\n",
      "\u001b[1m63/63\u001b[0m \u001b[32m━━━━━━━━━━━━━━━━━━━━\u001b[0m\u001b[37m\u001b[0m \u001b[1m16s\u001b[0m 202ms/step - accuracy: 0.3188 - loss: 1.6311 - val_accuracy: 0.3525 - val_loss: 1.5644\n",
      "Epoch 2/10\n",
      "\u001b[1m63/63\u001b[0m \u001b[32m━━━━━━━━━━━━━━━━━━━━\u001b[0m\u001b[37m\u001b[0m \u001b[1m12s\u001b[0m 188ms/step - accuracy: 0.3664 - loss: 1.5109 - val_accuracy: 0.5290 - val_loss: 1.2110\n",
      "Epoch 3/10\n",
      "\u001b[1m63/63\u001b[0m \u001b[32m━━━━━━━━━━━━━━━━━━━━\u001b[0m\u001b[37m\u001b[0m \u001b[1m12s\u001b[0m 197ms/step - accuracy: 0.6526 - loss: 0.9349 - val_accuracy: 0.7440 - val_loss: 0.7599\n",
      "Epoch 4/10\n",
      "\u001b[1m63/63\u001b[0m \u001b[32m━━━━━━━━━━━━━━━━━━━━\u001b[0m\u001b[37m\u001b[0m \u001b[1m13s\u001b[0m 203ms/step - accuracy: 0.8124 - loss: 0.5587 - val_accuracy: 0.8565 - val_loss: 0.4687\n",
      "Epoch 5/10\n",
      "\u001b[1m63/63\u001b[0m \u001b[32m━━━━━━━━━━━━━━━━━━━━\u001b[0m\u001b[37m\u001b[0m \u001b[1m13s\u001b[0m 199ms/step - accuracy: 0.8963 - loss: 0.3421 - val_accuracy: 0.8665 - val_loss: 0.4094\n",
      "Epoch 6/10\n",
      "\u001b[1m63/63\u001b[0m \u001b[32m━━━━━━━━━━━━━━━━━━━━\u001b[0m\u001b[37m\u001b[0m \u001b[1m12s\u001b[0m 195ms/step - accuracy: 0.9273 - loss: 0.2500 - val_accuracy: 0.8830 - val_loss: 0.3703\n",
      "Epoch 7/10\n",
      "\u001b[1m63/63\u001b[0m \u001b[32m━━━━━━━━━━━━━━━━━━━━\u001b[0m\u001b[37m\u001b[0m \u001b[1m13s\u001b[0m 199ms/step - accuracy: 0.9408 - loss: 0.1988 - val_accuracy: 0.8855 - val_loss: 0.3441\n",
      "Epoch 8/10\n",
      "\u001b[1m63/63\u001b[0m \u001b[32m━━━━━━━━━━━━━━━━━━━━\u001b[0m\u001b[37m\u001b[0m \u001b[1m13s\u001b[0m 202ms/step - accuracy: 0.9528 - loss: 0.1618 - val_accuracy: 0.8940 - val_loss: 0.3433\n",
      "Epoch 9/10\n",
      "\u001b[1m63/63\u001b[0m \u001b[32m━━━━━━━━━━━━━━━━━━━━\u001b[0m\u001b[37m\u001b[0m \u001b[1m15s\u001b[0m 239ms/step - accuracy: 0.9571 - loss: 0.1416 - val_accuracy: 0.8970 - val_loss: 0.3523\n",
      "Epoch 10/10\n",
      "\u001b[1m63/63\u001b[0m \u001b[32m━━━━━━━━━━━━━━━━━━━━\u001b[0m\u001b[37m\u001b[0m \u001b[1m13s\u001b[0m 204ms/step - accuracy: 0.9628 - loss: 0.1217 - val_accuracy: 0.8925 - val_loss: 0.3667\n"
     ]
    }
   ],
   "source": [
    "model_lstm.compile(optimizer='adam', loss='categorical_crossentropy', metrics=['accuracy'])\n",
    "\n",
    "history_lstm = model_lstm.fit(X_train, y_train, epochs=10, batch_size=256, validation_data=(X_test, y_test))"
   ]
  },
  {
   "cell_type": "code",
   "execution_count": 17,
   "id": "9b942737-f540-476e-87d1-ca1d69e65cc3",
   "metadata": {},
   "outputs": [
    {
     "name": "stdout",
     "output_type": "stream",
     "text": [
      "\u001b[1m63/63\u001b[0m \u001b[32m━━━━━━━━━━━━━━━━━━━━\u001b[0m\u001b[37m\u001b[0m \u001b[1m1s\u001b[0m 18ms/step - accuracy: 0.8925 - loss: 0.3667\n",
      "LSTM - Test Accuracy: 89.25%\n"
     ]
    }
   ],
   "source": [
    "loss, acc = model_lstm.evaluate(X_test, y_test)\n",
    "print(f\"LSTM - Test Accuracy: {acc*100:.2f}%\")"
   ]
  },
  {
   "cell_type": "code",
   "execution_count": 18,
   "id": "bfdcc443-d1be-43e4-bf78-6298c32b0b2b",
   "metadata": {},
   "outputs": [
    {
     "data": {
      "text/plain": [
       "<matplotlib.legend.Legend at 0x21ce7c01600>"
      ]
     },
     "execution_count": 18,
     "metadata": {},
     "output_type": "execute_result"
    },
    {
     "data": {
      "image/png": "[encoded data removed]",
      "text/plain": [
       "<Figure size 1200x400 with 1 Axes>"
      ]
     },
     "metadata": {},
     "output_type": "display_data"
    }
   ],
   "source": [
    "import matplotlib.pyplot as plt\n",
    "\n",
    "# Courbes Accuracy per Epochs\n",
    "plt.figure(figsize=(12,4))\n",
    "plt.subplot(1,2,1)\n",
    "plt.plot(history_lstm.history['accuracy'], label='Train')\n",
    "plt.plot(history_lstm.history['val_accuracy'], label='Validation')\n",
    "plt.title('LSTM - Accuracy')\n",
    "plt.xlabel('Époques')\n",
    "plt.ylabel('Accuracy')\n",
    "plt.legend()\n"
   ]
  },
  {
   "cell_type": "markdown",
   "id": "f2f2365f-70ec-4301-a490-90194b4f5d81",
   "metadata": {},
   "source": [
    "#### 2- GRU Model"
   ]
  },
  {
   "cell_type": "code",
   "execution_count": 19,
   "id": "fd515c54-bbc3-4e96-b9cc-61ddd86eae14",
   "metadata": {},
   "outputs": [],
   "source": [
    "from tensorflow.keras.models import Sequential\n",
    "from tensorflow.keras.layers import Embedding, GRU, Dense, Dropout, Bidirectional\n",
    "\n",
    "model_gru = Sequential()\n",
    "model_gru.add(Embedding(input_dim=10000, output_dim=128, input_length=50))\n",
    "model_gru.add(GRU(128, return_sequences=True, dropout=0.3, recurrent_dropout=0.3))\n",
    "model_gru.add(GRU(64, dropout=0.3))\n",
    "model_gru.add(Dense(64, activation='relu'))\n",
    "model_gru.add(Dropout(0.5))\n",
    "model_gru.add(Dense(y_train.shape[1], activation='softmax'))"
   ]
  },
  {
   "cell_type": "code",
   "execution_count": 20,
   "id": "d0a7b34c-2084-4fd8-bcb1-7c1d775428d1",
   "metadata": {},
   "outputs": [
    {
     "name": "stdout",
     "output_type": "stream",
     "text": [
      "Epoch 1/10\n",
      "\u001b[1m63/63\u001b[0m \u001b[32m━━━━━━━━━━━━━━━━━━━━\u001b[0m\u001b[37m\u001b[0m \u001b[1m17s\u001b[0m 204ms/step - accuracy: 0.3294 - loss: 1.6153 - val_accuracy: 0.4235 - val_loss: 1.4587\n",
      "Epoch 2/10\n",
      "\u001b[1m63/63\u001b[0m \u001b[32m━━━━━━━━━━━━━━━━━━━━\u001b[0m\u001b[37m\u001b[0m \u001b[1m12s\u001b[0m 183ms/step - accuracy: 0.5676 - loss: 1.1390 - val_accuracy: 0.6890 - val_loss: 0.8660\n",
      "Epoch 3/10\n",
      "\u001b[1m63/63\u001b[0m \u001b[32m━━━━━━━━━━━━━━━━━━━━\u001b[0m\u001b[37m\u001b[0m \u001b[1m11s\u001b[0m 178ms/step - accuracy: 0.7726 - loss: 0.6458 - val_accuracy: 0.8485 - val_loss: 0.4638\n",
      "Epoch 4/10\n",
      "\u001b[1m63/63\u001b[0m \u001b[32m━━━━━━━━━━━━━━━━━━━━\u001b[0m\u001b[37m\u001b[0m \u001b[1m11s\u001b[0m 180ms/step - accuracy: 0.8777 - loss: 0.3690 - val_accuracy: 0.8820 - val_loss: 0.3304\n",
      "Epoch 5/10\n",
      "\u001b[1m63/63\u001b[0m \u001b[32m━━━━━━━━━━━━━━━━━━━━\u001b[0m\u001b[37m\u001b[0m \u001b[1m12s\u001b[0m 183ms/step - accuracy: 0.9118 - loss: 0.2486 - val_accuracy: 0.8940 - val_loss: 0.2738\n",
      "Epoch 6/10\n",
      "\u001b[1m63/63\u001b[0m \u001b[32m━━━━━━━━━━━━━━━━━━━━\u001b[0m\u001b[37m\u001b[0m \u001b[1m11s\u001b[0m 179ms/step - accuracy: 0.9312 - loss: 0.1979 - val_accuracy: 0.9050 - val_loss: 0.2700\n",
      "Epoch 7/10\n",
      "\u001b[1m63/63\u001b[0m \u001b[32m━━━━━━━━━━━━━━━━━━━━\u001b[0m\u001b[37m\u001b[0m \u001b[1m11s\u001b[0m 180ms/step - accuracy: 0.9460 - loss: 0.1605 - val_accuracy: 0.9120 - val_loss: 0.2829\n",
      "Epoch 8/10\n",
      "\u001b[1m63/63\u001b[0m \u001b[32m━━━━━━━━━━━━━━━━━━━━\u001b[0m\u001b[37m\u001b[0m \u001b[1m12s\u001b[0m 185ms/step - accuracy: 0.9541 - loss: 0.1319 - val_accuracy: 0.9125 - val_loss: 0.2809\n",
      "Epoch 9/10\n",
      "\u001b[1m63/63\u001b[0m \u001b[32m━━━━━━━━━━━━━━━━━━━━\u001b[0m\u001b[37m\u001b[0m \u001b[1m11s\u001b[0m 180ms/step - accuracy: 0.9631 - loss: 0.1131 - val_accuracy: 0.9090 - val_loss: 0.3134\n",
      "Epoch 10/10\n",
      "\u001b[1m63/63\u001b[0m \u001b[32m━━━━━━━━━━━━━━━━━━━━\u001b[0m\u001b[37m\u001b[0m \u001b[1m11s\u001b[0m 181ms/step - accuracy: 0.9641 - loss: 0.1055 - val_accuracy: 0.9135 - val_loss: 0.2836\n"
     ]
    }
   ],
   "source": [
    "model_gru.compile(optimizer='adam', loss='categorical_crossentropy', metrics=['accuracy'])\n",
    "\n",
    "history_gru = model_gru.fit(X_train, y_train, epochs=10, batch_size=256, validation_data=(X_test, y_test))"
   ]
  },
  {
   "cell_type": "code",
   "execution_count": 21,
   "id": "967b36e2-34de-4179-aad4-1e0a7edfd93e",
   "metadata": {},
   "outputs": [
    {
     "name": "stdout",
     "output_type": "stream",
     "text": [
      "\u001b[1m63/63\u001b[0m \u001b[32m━━━━━━━━━━━━━━━━━━━━\u001b[0m\u001b[37m\u001b[0m \u001b[1m1s\u001b[0m 15ms/step - accuracy: 0.9135 - loss: 0.2836\n",
      "GRU - Test Accuracy: 91.35%\n"
     ]
    }
   ],
   "source": [
    "loss, acc = model_gru.evaluate(X_test, y_test)\n",
    "print(f\"GRU - Test Accuracy: {acc*100:.2f}%\")"
   ]
  },
  {
   "cell_type": "code",
   "execution_count": 22,
   "id": "e229f318-8b83-4f27-86a5-22b290e68d42",
   "metadata": {},
   "outputs": [
    {
     "data": {
      "text/plain": [
       "<matplotlib.legend.Legend at 0x21ce7c67e20>"
      ]
     },
     "execution_count": 22,
     "metadata": {},
     "output_type": "execute_result"
    },
    {
     "data": {
      "image/png": "[encoded data removed]",
      "text/plain": [
       "<Figure size 1200x400 with 1 Axes>"
      ]
     },
     "metadata": {},
     "output_type": "display_data"
    }
   ],
   "source": [
    "import matplotlib.pyplot as plt\n",
    "\n",
    "# Courbes Accuracy per Epochs\n",
    "plt.figure(figsize=(12,4))\n",
    "plt.subplot(1,2,1)\n",
    "plt.plot(history_gru.history['accuracy'], label='Train')\n",
    "plt.plot(history_gru.history['val_accuracy'], label='Validation')\n",
    "plt.title('GRU - Accuracy')\n",
    "plt.xlabel('Époques')\n",
    "plt.ylabel('Accuracy')\n",
    "plt.legend()"
   ]
  },
  {
   "cell_type": "markdown",
   "id": "f82a0791-9ae2-457e-83c8-18ea76e56f16",
   "metadata": {},
   "source": [
    "### Analyse de la performance des modèles\n",
    "***********\n",
    "\n",
    "**1. Modèle LSTM**\n",
    "\n",
    "Performance finale (Epoch 10) :\n",
    "\n",
    "        Précision d'entraînement : 96.28%\n",
    "        Performance sur l'ensemble de test - Accuracy : 89.25%\n",
    "**2. Modèle GRU**\n",
    "\n",
    "Performance finale (Epoch 10) :\n",
    "\n",
    "    Précision d'entraînement : 96.41%\n",
    "    Performance sur l'ensemble de test - Accuracy : 91.35%\n",
    "\n",
    "**Conclusion**\n",
    "\n",
    "Sur cet ensemble de données et avec les architectures testées, le modèle GRU (91.35% de précision) est plus performant que le modèle LSTM (89.25% de précision) pour la tâche de classification des émotions.\n"
   ]
  },
  {
   "cell_type": "markdown",
   "id": "c340c6ff-5bc9-48bc-8909-b4267c1e0650",
   "metadata": {},
   "source": [
    "### Sauvegarder le modèle"
   ]
  },
  {
   "cell_type": "code",
   "execution_count": 23,
   "id": "c4e4a6aa-0ad9-41da-acbe-81323844076b",
   "metadata": {},
   "outputs": [
    {
     "name": "stderr",
     "output_type": "stream",
     "text": [
      "WARNING:absl:You are saving your model as an HDF5 file via `model.save()` or `keras.saving.save_model(model)`. This file format is considered legacy. We recommend using instead the native Keras format, e.g. `model.save('my_model.keras')` or `keras.saving.save_model(model, 'my_model.keras')`. \n"
     ]
    }
   ],
   "source": [
    "# Sérialisation  \n",
    "model_gru.save(\"EmotionsFromText_model_gru.h5\")"
   ]
  },
  {
   "cell_type": "code",
   "execution_count": null,
   "id": "e4e7dcce-39d9-4b88-99e6-bfdc3a23ece8",
   "metadata": {},
   "outputs": [],
   "source": []
  }
 ],
 "metadata": {
  "kernelspec": {
   "display_name": "Python 3 (ipykernel)",
   "language": "python",
   "name": "python3"
  },
  "language_info": {
   "codemirror_mode": {
    "name": "ipython",
    "version": 3
   },
   "file_extension": ".py",
   "mimetype": "text/x-python",
   "name": "python",
   "nbconvert_exporter": "python",
   "pygments_lexer": "ipython3",
   "version": "3.10.0"
  }
 },
 "nbformat": 4,
 "nbformat_minor": 5
}
